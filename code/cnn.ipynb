{
 "cells": [
  {
   "cell_type": "markdown",
   "metadata": {},
   "source": [
    "# Assignment 3: Convolutional neural networks for classification\n",
    "\n",
    "The goal of this assignment is to demonstrate the Keras API for implementing and training convolutional neural network architectures. Furthermore, you get to work with the PatchCAMELYON (or PCAM) dataset that you should also use for the main project work. Essentially, this assignment demonstrated a minimal working example for the main project work.\n",
    "\n",
    "### Preliminaries\n",
    "\n",
    "The full working code of the example convolutional neural network can be found in the `cnn.py` file. As before, we will go over the components of the code in this Python notebook, however, you are strongly encouraged to perform all experiments using `cnn.py`. We start with importing the required libraries and defining the size of the images in the PCAM dataset.\n"
   ]
  },
  {
   "cell_type": "code",
   "execution_count": 1,
   "metadata": {},
   "outputs": [],
   "source": [
    "import os\n",
    "\n",
    "import numpy as np\n",
    "\n",
    "from tensorflow.keras.preprocessing.image import ImageDataGenerator\n",
    "from tensorflow.keras.models import Sequential\n",
    "from tensorflow.keras.layers import Dense, Flatten\n",
    "from tensorflow.keras.layers import Conv2D, MaxPool2D, GlobalAveragePooling2D, Flatten, Dense\n",
    "from tensorflow.keras.layers import Activation, BatchNormalization\n",
    "from tensorflow.keras.optimizers import Adam\n",
    "from tensorflow.keras.optimizers import SGD\n",
    "from tensorflow.keras.callbacks import ModelCheckpoint, TensorBoard\n",
    "from tensorflow.keras.models import model_from_json\n",
    "\n",
    "\n",
    "# unused for now, to be used for ROC analysis\n",
    "from sklearn.metrics import roc_curve, auc\n",
    "\n",
    "import matplotlib.pyplot as plt\n",
    "# the size of the images in the PCAM dataset\n",
    "IMAGE_SIZE = 96"
   ]
  },
  {
   "cell_type": "markdown",
   "metadata": {},
   "source": [
    "### Instantiating data generators\n",
    "\n",
    "Compared to the MNIST dataset, the PatchCAMELYON dataset is too big to fit in the working memory of most personal computers. This is why, we need to define some functions that will read the image data batch by batch, so only a single batch of images needs to be stored in memory at one time point. We can use the handy ImageDataGenerator function from the Keras API to do this. Note that the generators are defined within a function that returns them as output arguments. This function will later be called from the main code body. \n"
   ]
  },
  {
   "cell_type": "code",
   "execution_count": 3,
   "metadata": {},
   "outputs": [],
   "source": [
    "def get_pcam_generators(base_dir, train_batch_size=32, val_batch_size=32):\n",
    "\n",
    "     # dataset parameters\n",
    "     TRAIN_PATH = os.path.join(base_dir, 'train+val', 'train')\n",
    "     VALID_PATH = os.path.join(base_dir, 'train+val', 'valid')\n",
    "\n",
    "     RESCALING_FACTOR = 1./255\n",
    "     \n",
    "     # instantiate data generators\n",
    "     datagen = ImageDataGenerator(rescale=RESCALING_FACTOR)\n",
    "\n",
    "     train_gen = datagen.flow_from_directory(TRAIN_PATH,\n",
    "                                             target_size=(IMAGE_SIZE, IMAGE_SIZE),\n",
    "                                             batch_size=train_batch_size,\n",
    "                                             class_mode='binary')\n",
    "\n",
    "     val_gen = datagen.flow_from_directory(VALID_PATH,\n",
    "                                             target_size=(IMAGE_SIZE, IMAGE_SIZE),\n",
    "                                             batch_size=val_batch_size,\n",
    "                                             class_mode='binary',\n",
    "                                             shuffle=False)\n",
    "     \n",
    "     return train_gen, val_gen"
   ]
  },
  {
   "cell_type": "markdown",
   "metadata": {},
   "source": [
    "### Building a convolutional neural network classification model\n",
    "\n",
    "The convolutional neural network model is also defined within a function. Organizing the code into functions instead of piling everything up in a single script makes the code more clear to read and understand, and helps reuse functionality that is already implemented. For example, we can use the `get_pcam_generators()` function to create data generators with different batch sizes just by calling the function with a different set of parameters. Or, we can use the `get_model()` function to generate networks with different number of feature maps (see below). \n",
    "\n",
    "The convolutional neural network model consists of two convolutional layers, each one followed by a max pooling layer and a fully connected layer with 64 neurons. The kernel size and number of filters of the two convolutional layers, and the size of the max pooling regions can be passed as input parameters to the function (however, note that default values are set so the function can be called without parameters). ReLU nonlinearities are used throughout the network, except for the output neuron that is activated with a sigmoid. "
   ]
  },
  {
   "cell_type": "code",
   "execution_count": 35,
   "metadata": {},
   "outputs": [],
   "source": [
    "def get_model(kernel_size=(3,3), pool_size=(4,4), first_filters=32, second_filters=64):\n",
    "\n",
    "\n",
    "     # build the model\n",
    "     model = Sequential()\n",
    "\n",
    "     model.add(Conv2D(first_filters, kernel_size, activation = 'relu', padding = 'same', input_shape = (IMAGE_SIZE, IMAGE_SIZE, 3)))\n",
    "     model.add(MaxPool2D(pool_size = pool_size)) \n",
    "\n",
    "     model.add(Conv2D(second_filters, kernel_size, activation = 'relu', padding = 'same'))\n",
    "     model.add(MaxPool2D(pool_size = pool_size))\n",
    "\n",
    "     model.add(Flatten())\n",
    "     model.add(Dense(64, activation = 'relu'))\n",
    "     model.add(Dense(1, activation = 'sigmoid'))\n",
    "     \n",
    "    \n",
    "     # compile the model\n",
    "     model.compile(SGD(learning_rate=0.01, momentum=0.95), loss = 'binary_crossentropy', metrics=['accuracy'])\n",
    "\n",
    "     return model"
   ]
  },
  {
   "cell_type": "markdown",
   "metadata": {},
   "source": [
    "Now, the two functions that define the model and the data generators can be called from the main code body. Before executing the code block below, do not forget to change the path where the PatchCAMELYON dataset is located (that is, the location of the folder that contains `train+val` that you previously downloaded and unpacked).\n",
    "\n",
    "If everything is correct, the following output will be printed on screen after executing the code block:\n",
    "\n",
    "`Found 144000 images belonging to 2 classes.`\n",
    "\n",
    "`Found 16000 images belonging to 2 classes.`"
   ]
  },
  {
   "cell_type": "code",
   "execution_count": 36,
   "metadata": {},
   "outputs": [
    {
     "name": "stdout",
     "output_type": "stream",
     "text": [
      "Found 144000 images belonging to 2 classes.\n",
      "Found 16000 images belonging to 2 classes.\n"
     ]
    }
   ],
   "source": [
    "# get the model\n",
    "model = get_model()\n",
    "\n",
    "# get the data generators\n",
    "train_gen, val_gen = get_pcam_generators(r'C:\\Users\\20212208\\OneDrive - TU Eindhoven\\Desktop\\8P361\\Project_8P')"
   ]
  },
  {
   "cell_type": "markdown",
   "metadata": {},
   "source": [
    "If you want to know the shapes of the outputs of all layers in the network (the dimensionality of the feature maps), you can print them in the following way:"
   ]
  },
  {
   "cell_type": "code",
   "execution_count": 37,
   "metadata": {},
   "outputs": [
    {
     "name": "stdout",
     "output_type": "stream",
     "text": [
      "(None, 96, 96, 32)\n",
      "(None, 24, 24, 32)\n",
      "(None, 24, 24, 64)\n",
      "(None, 6, 6, 64)\n",
      "(None, 2304)\n",
      "(None, 64)\n",
      "(None, 1)\n"
     ]
    }
   ],
   "source": [
    "for layer in model.layers:\n",
    "    print(layer.output_shape)"
   ]
  },
  {
   "cell_type": "markdown",
   "metadata": {},
   "source": [
    "### Training and evaluating the model\n",
    "\n",
    "Finally, the model can be trained using data generated by the data generators and then evaluated. This is done in a similar way to the previous assignment. Furthermore, in addition to the Tensorflow callback, an additional callback that saves the \"best\" version of the trained model to a file is added, and the model structure is saved to a json file. This enables loading the model and corresponding weights at a later time point (e.g. when we want to evaluate the model on a test set). "
   ]
  },
  {
   "cell_type": "code",
   "execution_count": 6,
   "metadata": {},
   "outputs": [
    {
     "name": "stdout",
     "output_type": "stream",
     "text": [
      "Epoch 1/3\n",
      "4500/4500 [==============================] - ETA: 0s - loss: 0.4658 - accuracy: 0.7816\n",
      "Epoch 1: val_loss improved from inf to 0.40663, saving model to my_first_cnn_model_weights.hdf5\n",
      "4500/4500 [==============================] - 1036s 230ms/step - loss: 0.4658 - accuracy: 0.7816 - val_loss: 0.4066 - val_accuracy: 0.8183\n",
      "Epoch 2/3\n",
      "   1/4500 [..............................] - ETA: 8:47 - loss: 0.3356 - accuracy: 0.9375"
     ]
    },
    {
     "name": "stderr",
     "output_type": "stream",
     "text": [
      "C:\\Users\\20212208\\AppData\\Local\\anaconda3\\envs\\8p361\\lib\\site-packages\\keras\\src\\engine\\training.py:3000: UserWarning: You are saving your model as an HDF5 file via `model.save()`. This file format is considered legacy. We recommend using instead the native Keras format, e.g. `model.save('my_model.keras')`.\n",
      "  saving_api.save_model(\n"
     ]
    },
    {
     "name": "stdout",
     "output_type": "stream",
     "text": [
      "4500/4500 [==============================] - ETA: 0s - loss: 0.3808 - accuracy: 0.8315\n",
      "Epoch 2: val_loss improved from 0.40663 to 0.34973, saving model to my_first_cnn_model_weights.hdf5\n",
      "4500/4500 [==============================] - 370s 82ms/step - loss: 0.3808 - accuracy: 0.8315 - val_loss: 0.3497 - val_accuracy: 0.8564\n",
      "Epoch 3/3\n",
      "4500/4500 [==============================] - ETA: 0s - loss: 0.3360 - accuracy: 0.8555\n",
      "Epoch 3: val_loss improved from 0.34973 to 0.32438, saving model to my_first_cnn_model_weights.hdf5\n",
      "4500/4500 [==============================] - 254s 56ms/step - loss: 0.3360 - accuracy: 0.8555 - val_loss: 0.3244 - val_accuracy: 0.8609\n"
     ]
    }
   ],
   "source": [
    "# save the model and weights\n",
    "model_name = 'my_first_cnn_model'\n",
    "model_filepath = model_name + '.json'\n",
    "weights_filepath = model_name + '_weights.hdf5'\n",
    "\n",
    "model_json = model.to_json() # serialize model to JSON\n",
    "with open(model_filepath, 'w') as json_file:\n",
    "    json_file.write(model_json) \n",
    "\n",
    "\n",
    "# define the model checkpoint and Tensorboard callbacks\n",
    "checkpoint = ModelCheckpoint(weights_filepath, monitor='val_loss', verbose=1, save_best_only=True, mode='min')\n",
    "tensorboard = TensorBoard(os.path.join('logs', model_name))\n",
    "callbacks_list = [checkpoint, tensorboard]\n",
    "\n",
    "\n",
    "# train the model\n",
    "train_steps = train_gen.n//train_gen.batch_size\n",
    "val_steps = val_gen.n//val_gen.batch_size\n",
    "\n",
    "history = model.fit(train_gen, steps_per_epoch=train_steps, \n",
    "                    validation_data=val_gen,\n",
    "                    validation_steps=val_steps,\n",
    "                    epochs=3,\n",
    "                    callbacks=callbacks_list)"
   ]
  },
  {
   "cell_type": "markdown",
   "metadata": {},
   "source": [
    "## Exercise 1 \n",
    "If a model has been trained, it can be loaded with the following code. This also generates an ROC curve from the validation set."
   ]
  },
  {
   "cell_type": "code",
   "execution_count": 14,
   "metadata": {},
   "outputs": [
    {
     "name": "stdout",
     "output_type": "stream",
     "text": [
      "Found 16000 images belonging to 2 classes.\n",
      "500/500 [==============================] - 13s 26ms/step\n"
     ]
    },
    {
     "data": {
      "image/png": "[encoded data removed]",
      "text/plain": [
       "<Figure size 800x600 with 1 Axes>"
      ]
     },
     "metadata": {},
     "output_type": "display_data"
    }
   ],
   "source": [
    "# Define paths\n",
    "VALIDATION_DIR = r\"train+val\\valid\"\n",
    "MODEL_JSON_PATH = r\"my_first_cnn_model.json\"\n",
    "MODEL_WEIGHTS_PATH = r\"my_first_cnn_model_weights.hdf5\"\n",
    "\n",
    "# Load model architecture from JSON\n",
    "with open(MODEL_JSON_PATH, \"r\") as json_file:\n",
    "    model_json = json_file.read()\n",
    "\n",
    "model = model_from_json(model_json)  # Recreate model from JSON structure\n",
    "model.load_weights(MODEL_WEIGHTS_PATH)  # Load trained weights\n",
    "\n",
    "# Load validation dataset\n",
    "IMG_SIZE = (96, 96)  # Adjust to match original training size\n",
    "BATCH_SIZE = 32\n",
    "\n",
    "datagen = ImageDataGenerator(rescale=1.0/255)  # Normalize images\n",
    "valid_generator = datagen.flow_from_directory(\n",
    "    VALIDATION_DIR,\n",
    "    target_size=IMG_SIZE,\n",
    "    batch_size=BATCH_SIZE,\n",
    "    class_mode=\"binary\",\n",
    "    shuffle=False  # Keep order for ROC computation\n",
    ")\n",
    "\n",
    "# Get ground truth labels\n",
    "y_true = valid_generator.classes\n",
    "\n",
    "# Generate predictions\n",
    "y_pred_probs = model.predict(valid_generator)  # Probabilities\n",
    "y_pred_labels = (y_pred_probs > 0.5).astype(int)  # Convert to binary labels\n",
    "\n",
    "# Compute ROC curve and AUC\n",
    "fpr, tpr, _ = roc_curve(y_true, y_pred_probs)\n",
    "roc_auc = auc(fpr, tpr)\n",
    "\n",
    "# Plot ROC curve\n",
    "plt.figure(figsize=(8,6))\n",
    "plt.plot(fpr, tpr, color='blue', lw=2, label=f'ROC curve (AUC = {roc_auc:.2f})')\n",
    "plt.plot([0, 1], [0, 1], color='gray', linestyle='--')  # Random classifier line\n",
    "plt.xlabel('False Positive Rate')\n",
    "plt.ylabel('True Positive Rate')\n",
    "plt.title('Receiver Operating Characteristic (ROC) Curve')\n",
    "plt.legend(loc='lower right')\n",
    "plt.show()\n"
   ]
  },
  {
   "cell_type": "markdown",
   "metadata": {},
   "source": [
    "## Exercise 2\n",
    "A NN model that only uses convolutional layers has less weights per layer, so it is computationally easier. It also sees more small features rather than larger ones. In this case, we mostly look at small features in the images."
   ]
  },
  {
   "cell_type": "code",
   "execution_count": 4,
   "metadata": {},
   "outputs": [],
   "source": [
    "def get_model2(kernel_size=(3,3), pool_size=(4,4), first_filters=32, second_filters=64, third_filters=128):\n",
    "    model = Sequential()\n",
    "    \n",
    "    model.add(Conv2D(first_filters, kernel_size, activation='relu', padding='same', input_shape=(IMAGE_SIZE, IMAGE_SIZE, 3)))\n",
    "    model.add(MaxPool2D(pool_size=pool_size))\n",
    "    \n",
    "    model.add(Conv2D(second_filters, kernel_size, activation='relu', padding='same'))\n",
    "    model.add(MaxPool2D(pool_size=pool_size))\n",
    "    \n",
    "    model.add(Conv2D(third_filters, kernel_size, activation='relu', padding='same'))  # Added third convolutional layer\n",
    "    model.add(MaxPool2D(pool_size=pool_size))\n",
    "    \n",
    "    model.add(GlobalAveragePooling2D())\n",
    "    model.add(Dense(64, activation='relu'))\n",
    "    model.add(Dense(1, activation='sigmoid'))  # Changed to single neuron with sigmoid\n",
    "    \n",
    "    model.compile(optimizer=SGD(learning_rate=0.01, momentum=0.95), loss='binary_crossentropy', metrics=['accuracy'])  # Changed loss function\n",
    "    \n",
    "    return model"
   ]
  },
  {
   "cell_type": "code",
   "execution_count": 5,
   "metadata": {},
   "outputs": [
    {
     "name": "stdout",
     "output_type": "stream",
     "text": [
      "Found 144000 images belonging to 2 classes.\n",
      "Found 16000 images belonging to 2 classes.\n"
     ]
    }
   ],
   "source": [
    "# get the model\n",
    "model2 = get_model2()\n",
    "\n",
    "# get the data generators\n",
    "train_gen, val_gen = get_pcam_generators(r'C:\\Users\\20212208\\OneDrive - TU Eindhoven\\Desktop\\8P361\\Project_8P')\n"
   ]
  },
  {
   "cell_type": "code",
   "execution_count": null,
   "metadata": {},
   "outputs": [
    {
     "name": "stdout",
     "output_type": "stream",
     "text": [
      "Epoch 1/3\n",
      " 371/4500 [=>............................] - ETA: 16:33 - loss: 0.6078 - accuracy: 0.6619"
     ]
    }
   ],
   "source": [
    "# save the model and weights\n",
    "model_name = 'my_second_cnn_model'\n",
    "model_filepath = model_name + '.json'\n",
    "weights_filepath = model_name + '_weights.hdf5'\n",
    "\n",
    "model_json = model2.to_json() # serialize model to JSON\n",
    "with open(model_filepath, 'w') as json_file:\n",
    "    json_file.write(model_json) \n",
    "\n",
    "\n",
    "# define the model checkpoint and Tensorboard callbacks\n",
    "checkpoint = ModelCheckpoint(weights_filepath, monitor='val_loss', verbose=1, save_best_only=True, mode='min')\n",
    "tensorboard = TensorBoard(os.path.join('logs', model_name))\n",
    "callbacks_list = [checkpoint, tensorboard]\n",
    "\n",
    "\n",
    "# train the model\n",
    "train_steps = train_gen.n//train_gen.batch_size\n",
    "val_steps = val_gen.n//val_gen.batch_size\n",
    "\n",
    "history = model2.fit(train_gen, steps_per_epoch=train_steps, \n",
    "                    validation_data=val_gen,\n",
    "                    validation_steps=val_steps,\n",
    "                    epochs=3,\n",
    "                    callbacks=callbacks_list)"
   ]
  },
  {
   "cell_type": "code",
   "execution_count": 11,
   "metadata": {},
   "outputs": [
    {
     "name": "stdout",
     "output_type": "stream",
     "text": [
      "Indexes: 0 - 5000\n",
      "157/157 [==============================] - 3s 19ms/step\n",
      "[[0.8301379 ]\n",
      " [0.9128833 ]\n",
      " [0.47863248]\n",
      " [0.7037635 ]\n",
      " [0.03886302]\n",
      " [0.16808137]\n",
      " [0.18903156]\n",
      " [0.4287305 ]\n",
      " [0.90194786]\n",
      " [0.850554  ]]\n",
      "Indexes: 5000 - 10000\n",
      "157/157 [==============================] - 3s 19ms/step\n",
      "[[0.3044765 ]\n",
      " [0.4742706 ]\n",
      " [0.02909475]\n",
      " [0.12459732]\n",
      " [0.25265536]\n",
      " [0.99496305]\n",
      " [0.4482505 ]\n",
      " [0.42565012]\n",
      " [0.03433973]\n",
      " [0.09696168]]\n",
      "Indexes: 10000 - 15000\n",
      "157/157 [==============================] - 3s 18ms/step\n",
      "[[0.11692078]\n",
      " [0.7492732 ]\n",
      " [0.0838044 ]\n",
      " [0.96604437]\n",
      " [0.72775996]\n",
      " [0.03576782]\n",
      " [0.23170806]\n",
      " [0.6837012 ]\n",
      " [0.73469543]\n",
      " [0.7660514 ]]\n",
      "Indexes: 15000 - 20000\n",
      "157/157 [==============================] - 3s 19ms/step\n",
      "[[0.07964484]\n",
      " [0.97525066]\n",
      " [0.04091775]\n",
      " [0.03354031]\n",
      " [0.94978684]\n",
      " [0.09173416]\n",
      " [0.7783908 ]\n",
      " [0.9487692 ]\n",
      " [0.01213949]\n",
      " [0.998688  ]]\n",
      "Indexes: 20000 - 25000\n",
      "157/157 [==============================] - 3s 19ms/step\n",
      "[[0.5394446 ]\n",
      " [0.7626631 ]\n",
      " [0.30907917]\n",
      " [0.1374588 ]\n",
      " [0.02650313]\n",
      " [0.99265105]\n",
      " [0.26078805]\n",
      " [0.32036585]\n",
      " [0.89222556]\n",
      " [0.6198619 ]]\n",
      "Indexes: 25000 - 30000\n",
      "157/157 [==============================] - 3s 19ms/step\n",
      "[[0.9016542 ]\n",
      " [0.1053116 ]\n",
      " [0.98245156]\n",
      " [0.20228517]\n",
      " [0.910745  ]\n",
      " [0.1039416 ]\n",
      " [0.2588379 ]\n",
      " [0.08665662]\n",
      " [0.12842625]\n",
      " [0.07652479]]\n",
      "Indexes: 30000 - 35000\n",
      "157/157 [==============================] - 3s 19ms/step\n",
      "[[0.9969107 ]\n",
      " [0.03747525]\n",
      " [0.3299595 ]\n",
      " [0.9050978 ]\n",
      " [0.85389477]\n",
      " [0.05032841]\n",
      " [0.04791403]\n",
      " [0.8284692 ]\n",
      " [0.49540836]\n",
      " [0.9961515 ]]\n",
      "Indexes: 35000 - 40000\n",
      "157/157 [==============================] - 3s 19ms/step\n",
      "[[0.89339596]\n",
      " [0.14990279]\n",
      " [0.07020874]\n",
      " [0.8825365 ]\n",
      " [0.9420918 ]\n",
      " [0.8608279 ]\n",
      " [0.30219772]\n",
      " [0.9981503 ]\n",
      " [0.50321627]\n",
      " [0.05913937]]\n",
      "Indexes: 40000 - 45000\n",
      "157/157 [==============================] - 3s 19ms/step\n",
      "[[0.98508716]\n",
      " [0.06725981]\n",
      " [0.9676891 ]\n",
      " [0.05506008]\n",
      " [0.08809019]\n",
      " [0.04997787]\n",
      " [0.8794287 ]\n",
      " [0.0521492 ]\n",
      " [0.6615097 ]\n",
      " [0.84351474]]\n",
      "Indexes: 45000 - 50000\n",
      "157/157 [==============================] - 3s 18ms/step\n",
      "[[0.09577307]\n",
      " [0.21128507]\n",
      " [0.07881445]\n",
      " [0.9751759 ]\n",
      " [0.9945609 ]\n",
      " [0.02651368]\n",
      " [0.9215898 ]\n",
      " [0.55920947]\n",
      " [0.9786866 ]\n",
      " [0.06826793]]\n",
      "Indexes: 50000 - 55000\n",
      "157/157 [==============================] - 3s 20ms/step\n",
      "[[0.37768146]\n",
      " [0.08241185]\n",
      " [0.9617608 ]\n",
      " [0.04301737]\n",
      " [0.8746803 ]\n",
      " [0.03983161]\n",
      " [0.03918429]\n",
      " [0.99794483]\n",
      " [0.861462  ]\n",
      " [0.8294499 ]]\n",
      "Indexes: 55000 - 60000\n",
      "77/77 [==============================] - 1s 19ms/step\n",
      "[[0.11733174]\n",
      " [0.98895246]\n",
      " [0.9944042 ]\n",
      " [0.9999556 ]\n",
      " [0.95724607]\n",
      " [0.10474171]\n",
      " [0.21453878]\n",
      " [0.9974692 ]\n",
      " [0.05355585]\n",
      " [0.01877452]]\n"
     ]
    }
   ],
   "source": [
    "'''\n",
    "TU/e BME Project Imaging 2021\n",
    "Submission code for Kaggle PCAM\n",
    "Author: Suzanne Wetstein\n",
    "'''\n",
    "\n",
    "import os\n",
    "os.environ['TF_CPP_MIN_LOG_LEVEL'] = '3'  # or any {'0', '1', '2'}   \n",
    "import tensorflow as tf\n",
    "\n",
    "import numpy as np\n",
    "\n",
    "import glob\n",
    "import pandas as pd\n",
    "from matplotlib.pyplot import imread\n",
    "from tensorflow.image import resize\n",
    "\n",
    "from tensorflow.keras.models import model_from_json\n",
    "\n",
    "#Change these variables to point at the locations and names of the test dataset and your models.\n",
    "TEST_PATH = r'C:\\Users\\20212208\\OneDrive - TU Eindhoven\\Desktop\\8P361\\Project_8P\\test\\test' \n",
    "MODEL_FILEPATH = r'C:\\Users\\20212208\\OneDrive - TU Eindhoven\\Desktop\\8P361\\Project_8P\\my_second_cnn_model.json' \n",
    "MODEL_WEIGHTS_FILEPATH = r'C:\\Users\\20212208\\OneDrive - TU Eindhoven\\Desktop\\8P361\\Project_8P\\my_second_cnn_model_weights.hdf5'\n",
    "\n",
    "# load model and model weights\n",
    "json_file = open(MODEL_FILEPATH, 'r')\n",
    "loaded_model_json = json_file.read()\n",
    "json_file.close()\n",
    "model = model_from_json(loaded_model_json)\n",
    "\n",
    "\n",
    "# load weights into new model\n",
    "model.load_weights(MODEL_WEIGHTS_FILEPATH)\n",
    "\n",
    "\n",
    "# open the test set in batches (as it is a very big dataset) and make predictions\n",
    "test_files = glob.glob(os.path.join(TEST_PATH, '*.tif'))\n",
    "\n",
    "submission = pd.DataFrame()\n",
    "\n",
    "file_batch = 5000\n",
    "max_idx = len(test_files)\n",
    "\n",
    "for idx in range(0, max_idx, file_batch):\n",
    "\n",
    "    print('Indexes: %i - %i'%(idx, idx+file_batch))\n",
    "\n",
    "    test_df = pd.DataFrame({'path': test_files[idx:idx+file_batch]})\n",
    "\n",
    "\n",
    "    # get the image id \n",
    "    test_df['id'] = test_df.path.map(lambda x: x.split(os.sep)[-1].split('.')[0])\n",
    "    test_df['image'] = test_df['path'].map(imread)\n",
    "    \n",
    "    \n",
    "    K_test = np.stack(test_df['image'].values)\n",
    "    \n",
    "    # apply the same preprocessing as during draining\n",
    "    K_test = K_test.astype('float')/255.0\n",
    "    \n",
    "    predictions = model.predict(K_test)\n",
    "    print(predictions[:10])  # Print first 10 predictions to check\n",
    "\n",
    "    \n",
    "    test_df['label'] = predictions\n",
    "    submission = pd.concat([submission, test_df[['id', 'label']]])\n",
    "\n",
    "\n",
    "# save your submission\n",
    "submission.head()\n",
    "submission.to_csv('submission.csv', index = False, header = True)"
   ]
  },
  {
   "cell_type": "markdown",
   "metadata": {},
   "source": [
    "In case you are wondering why (for the first epochs in particular) the validation accuracy is much higher than the training accuracy and the validation loss is lower than the training loss, you can find your answer in the [Keras FAQ](https://keras.io/getting_started/faq/).\n",
    "\n",
    "### Before you start with the exercises...\n",
    "\n",
    "Make sure that you understand all new code components introduced in the example. Remember: you can always lookup the documentation of the used functions to get a better understanding about how they work.\n",
    "\n",
    "[This blog post](http://karpathy.github.io/2019/04/25/recipe/) by Andrej Kaprapthy with tips and tricks for training neural networks is highly recommended reading material.\n",
    "\n",
    "## Exercise 1\n",
    "\n",
    "The PatchCAMELYON challenge on Kaggle uses the area under the ROC curve as an evaluation measure. Describe the concept of ROC curve analysis and the area under the ROC curve (AUC) as an evaluation measure. Then, using methods from the sklearn Python toolbox (the required functions are alerady imported), perform ROC curve analysis and computation of the AUC for your model. \n",
    "\n",
    "Note that you will have to do this analysis on the validation set (since you do not have access to the ground truth for the test set). \n",
    "\n",
    "## Exercise 2\n",
    "\n",
    "It is possible to construct a neural network model that is equivalent to the model above, however, only using convolutional layers (i.e. without using any fully connected or \"dense\" layers). Construct and train such a model. \n",
    "\n",
    "What would be the advantage of only using convolutional layers?\n",
    "\n",
    "\n",
    "## Exercise 3\n",
    "\n",
    "Use the `kaggle_submission.py` file to prepare and submit results for evaluation to Kaggle. What is the result of the evaluation on the test set? How does it compare to the evaluation that you performed on the validation set?\n",
    "\n",
    "## Submission checklist\n",
    "\n",
    "* Exercise 1: Answer to the questions and code\n",
    "* Exercise 2: Answer to the questions and code\n",
    "* Exercise 3: Answer to the questions and code"
   ]
  },
  {
   "cell_type": "markdown",
   "metadata": {},
   "source": []
  }
 ],
 "metadata": {
  "kernelspec": {
   "display_name": "Python 3 (ipykernel)",
   "language": "python",
   "name": "python3"
  },
  "language_info": {
   "codemirror_mode": {
    "name": "ipython",
    "version": 3
   },
   "file_extension": ".py",
   "mimetype": "text/x-python",
   "name": "python",
   "nbconvert_exporter": "python",
   "pygments_lexer": "ipython3",
   "version": "3.8.20"
  }
 },
 "nbformat": 4,
 "nbformat_minor": 4
}
